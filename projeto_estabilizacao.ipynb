{
 "cells": [
  {
   "cell_type": "markdown",
   "metadata": {},
   "source": [
    "# Projeto Estabilização"
   ]
  },
  {
   "cell_type": "markdown",
   "metadata": {},
   "source": [
    "## Marcelo G. de Andrade"
   ]
  },
  {
   "cell_type": "markdown",
   "metadata": {},
   "source": [
    "### Features do projeto\n",
    "\n",
    "- [X] Estabilização usando fluxo do centro da imagem\n",
    "- [X] Remover bordas pretas da estabilização mantendo aspect ratio\n",
    "- [ ] Estabilização da rotação"
   ]
  },
  {
   "cell_type": "code",
   "execution_count": 2,
   "metadata": {},
   "outputs": [],
   "source": [
    "def crop_center(img,cropx,cropy):\n",
    "    y,x = img.shape\n",
    "    startx = x//2 - cropx//2\n",
    "    starty = y//2 - cropy//2    \n",
    "    cropped = img[starty:starty+cropy, startx:startx+cropx]\n",
    "    return cropped\n",
    "\n",
    "def crop_black_bar(img):\n",
    "    '''\n",
    "    Baseado em : https://stackoverflow.com/questions/13538748/crop-black-edges-with-opencv\n",
    "    '''\n",
    "    gray = cv2.cvtColor(img,cv2.COLOR_BGR2GRAY)\n",
    "    _,thresh = cv2.threshold(gray,1,255,cv2.THRESH_BINARY)\n",
    "    _,contours,hierarchy = cv2.findContours(thresh,cv2.RETR_EXTERNAL,cv2.CHAIN_APPROX_SIMPLE)\n",
    "    cnt = contours[0]\n",
    "    x,y,w,h = cv2.boundingRect(cnt)\n",
    "    if (w / 640 > h / 480):\n",
    "        w = int(h * (640/480))\n",
    "    else:\n",
    "        h = int(w * (480/640))\n",
    "    crop = img[y:y+h,x:x+w]\n",
    "    return cv2.resize(crop, (1280, 960))\n",
    "    \n",
    "def draw_rect(img, cropx, cropy):\n",
    "    y,x, colors = img.shape\n",
    "    startx = x//2 - cropx//2\n",
    "    starty = y//2 - cropy//2    \n",
    "    cv2.rectangle(img, (startx,starty), (startx+cropx, starty+cropy),(0,255,0),3 )\n",
    "    return img"
   ]
  },
  {
   "cell_type": "code",
   "execution_count": 3,
   "metadata": {},
   "outputs": [],
   "source": [
    "'''\n",
    " Based on the following tutorial:\n",
    "   http://docs.opencv.org/3.0-beta/doc/py_tutorials/py_video/py_lucas_kanade/py_lucas_kanade.html\n",
    "'''\n",
    "\n",
    "import numpy as np\n",
    "import cv2\n",
    "\n",
    "SIZE = 200\n",
    "prevFlow = np.zeros((SIZE,SIZE,2))\n",
    "# Start the webcam\n",
    "cap = cv2.VideoCapture(0)\n",
    "# cap = cv2.VideoCapture('../data/vtest.avi')\n",
    "\n",
    "# Take the first frame and convert it to gray\n",
    "ret, frame = cap.read()\n",
    "gray = cv2.cvtColor(frame, cv2.COLOR_BGR2GRAY)\n",
    "\n",
    "# Create the HSV color image\n",
    "hsvImg = np.zeros_like(frame)\n",
    "hsvImg[..., 1] = 255\n",
    "\n",
    "# Play until the user decides to stop\n",
    "while True:\n",
    "    # Save the previous frame data\n",
    "    previousGray = gray\n",
    "     \n",
    "    # Get the next frame\n",
    "    ret , frame = cap.read()\n",
    "    \n",
    "    if ret:\n",
    "        # Convert the frame to gray scale\n",
    "        gray = cv2.cvtColor(frame, cv2.COLOR_BGR2GRAY)\n",
    "        \n",
    "        # Calculate the dense optical flow\n",
    "        flow = cv2.calcOpticalFlowFarneback(crop_center(previousGray, SIZE, SIZE), crop_center(gray, SIZE, SIZE) , None, 0.5, 3, 15, 3, 5, 1.2, 0)\n",
    "        prevFlow += flow\n",
    "        \n",
    "        mean = np.mean(prevFlow, axis=1)\n",
    "        mean = np.mean(mean, axis=0)\n",
    "        \n",
    "        translation_matrix = np.float32([ [1,0,-mean[0]], [0,1,-mean[1]] ])\n",
    "        num_rows, num_cols = frame.shape[:2]\n",
    "        img_translation = cv2.warpAffine(frame, translation_matrix, (num_cols, num_rows))\n",
    "        \n",
    "        # Display the resulting frame\n",
    "        img2 = cv2.resize(img_translation, (1280, 960))   \n",
    "        cv2.imshow('dense optical flow',crop_black_bar(img_translation))\n",
    "        k = cv2.waitKey(30) & 0xff\n",
    "        \n",
    "        # Exit if the user press ESC\n",
    "        if k == 27:\n",
    "            break\n",
    "    else:\n",
    "        break\n",
    "\n",
    "# When everything is done, release the capture and close all windows\n",
    "cap.release()\n",
    "cv2.destroyAllWindows()"
   ]
  },
  {
   "cell_type": "code",
   "execution_count": null,
   "metadata": {},
   "outputs": [],
   "source": []
  }
 ],
 "metadata": {
  "kernelspec": {
   "display_name": "Python 3",
   "language": "python",
   "name": "python3"
  },
  "language_info": {
   "codemirror_mode": {
    "name": "ipython",
    "version": 3
   },
   "file_extension": ".py",
   "mimetype": "text/x-python",
   "name": "python",
   "nbconvert_exporter": "python",
   "pygments_lexer": "ipython3",
   "version": "3.6.5"
  }
 },
 "nbformat": 4,
 "nbformat_minor": 2
}
